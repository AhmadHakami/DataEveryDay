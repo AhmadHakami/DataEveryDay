{
  "metadata": {
    "kernelspec": {
      "language": "python",
      "display_name": "Python 3",
      "name": "python3"
    },
    "language_info": {
      "name": "python",
      "version": "3.7.6",
      "mimetype": "text/x-python",
      "codemirror_mode": {
        "name": "ipython",
        "version": 3
      },
      "pygments_lexer": "ipython3",
      "nbconvert_exporter": "python",
      "file_extension": ".py"
    },
    "colab": {
      "name": "flight-cancellation-prediction.ipynb",
      "provenance": []
    },
    "accelerator": "GPU"
  },
  "nbformat_minor": 0,
  "nbformat": 4,
  "cells": [
    {
      "cell_type": "markdown",
      "source": [
        "# Flight Cancellation Prediction"
      ],
      "metadata": {
        "id": "GqwP1KX6oyw-"
      }
    },
    {
      "cell_type": "code",
      "source": [
        "import numpy as np\n",
        "import pandas as pd\n",
        "pd.set_option('display.max_columns', None)\n",
        "\n",
        "import matplotlib.pyplot as plt\n",
        "import seaborn as sns\n",
        "\n",
        "from sklearn.model_selection import train_test_split\n",
        "from sklearn.preprocessing import StandardScaler\n",
        "from imblearn.over_sampling import RandomOverSampler\n",
        "\n",
        "from sklearn.linear_model import LogisticRegression\n",
        "\n",
        "from sklearn.metrics import confusion_matrix, classification_report\n",
        "\n",
        "import warnings\n",
        "warnings.filterwarnings(action = 'ignore')"
      ],
      "metadata": {
        "_uuid": "d629ff2d2480ee46fbb7e2d37f6b5fab8052498a",
        "_cell_guid": "79c7e3d0-c299-4dcb-8224-4455121ee9b0",
        "execution": {
          "iopub.status.busy": "2022-05-17T10:34:44.056307Z",
          "iopub.execute_input": "2022-05-17T10:34:44.056790Z",
          "iopub.status.idle": "2022-05-17T10:34:45.359869Z",
          "shell.execute_reply.started": "2022-05-17T10:34:44.056745Z",
          "shell.execute_reply": "2022-05-17T10:34:45.359083Z"
        },
        "trusted": true,
        "id": "QBkYg-N2oyxB"
      },
      "execution_count": null,
      "outputs": []
    },
    {
      "cell_type": "code",
      "source": [
        "data = pd.read_csv('/content/flights.csv')\n",
        "data"
      ],
      "metadata": {
        "execution": {
          "iopub.status.busy": "2022-05-17T10:34:45.361739Z",
          "iopub.execute_input": "2022-05-17T10:34:45.362125Z",
          "iopub.status.idle": "2022-05-17T10:34:46.437221Z",
          "shell.execute_reply.started": "2022-05-17T10:34:45.362083Z",
          "shell.execute_reply": "2022-05-17T10:34:46.436478Z"
        },
        "trusted": true,
        "id": "O7fziyngoyxC"
      },
      "execution_count": null,
      "outputs": []
    },
    {
      "cell_type": "code",
      "source": [
        "data.info()"
      ],
      "metadata": {
        "execution": {
          "iopub.status.busy": "2022-05-17T10:34:46.438489Z",
          "iopub.execute_input": "2022-05-17T10:34:46.438836Z",
          "iopub.status.idle": "2022-05-17T10:34:46.599929Z",
          "shell.execute_reply.started": "2022-05-17T10:34:46.438808Z",
          "shell.execute_reply": "2022-05-17T10:34:46.599007Z"
        },
        "trusted": true,
        "id": "BhyMAfLsoyxC"
      },
      "execution_count": null,
      "outputs": []
    },
    {
      "cell_type": "code",
      "source": [
        "data.CANCELLED.value_counts()"
      ],
      "metadata": {
        "execution": {
          "iopub.status.busy": "2022-05-17T10:34:46.601273Z",
          "iopub.execute_input": "2022-05-17T10:34:46.601793Z",
          "iopub.status.idle": "2022-05-17T10:34:46.612388Z",
          "shell.execute_reply.started": "2022-05-17T10:34:46.601749Z",
          "shell.execute_reply": "2022-05-17T10:34:46.611455Z"
        },
        "trusted": true,
        "id": "nKYq8NMmoyxC"
      },
      "execution_count": null,
      "outputs": []
    },
    {
      "cell_type": "markdown",
      "source": [
        "# Preprocessing"
      ],
      "metadata": {
        "id": "zxuEsVSdoyxD"
      }
    },
    {
      "cell_type": "code",
      "source": [
        "def onehot_encode(df, column_dict):\n",
        "    df = df.copy()\n",
        "    for column, prefix in column_dict.items():\n",
        "        dummies = pd.get_dummies(df[column], prefix = prefix)\n",
        "        df = pd.concat([df, dummies], axis = 1)\n",
        "        df = df.drop(column, axis = 1)\n",
        "    return df"
      ],
      "metadata": {
        "execution": {
          "iopub.status.busy": "2022-05-17T10:34:46.615915Z",
          "iopub.execute_input": "2022-05-17T10:34:46.616299Z",
          "iopub.status.idle": "2022-05-17T10:34:46.622000Z",
          "shell.execute_reply.started": "2022-05-17T10:34:46.616260Z",
          "shell.execute_reply": "2022-05-17T10:34:46.621075Z"
        },
        "trusted": true,
        "id": "LgeLGRAxoyxD"
      },
      "execution_count": null,
      "outputs": []
    },
    {
      "cell_type": "code",
      "source": [
        "def preprocess_inputs(df):\n",
        "    df = df.copy()\n",
        "    \n",
        "    # Remove columns with more than 25% missing values\n",
        "    missing_columns = df.loc[:, df.isna().mean() >= 0.25].columns\n",
        "    df = df.drop(missing_columns, axis = 1)\n",
        "    \n",
        "    # Drop unneeded columns\n",
        "    df = df.drop(['YEAR', 'MONTH', 'FLIGHT_NUMBER', 'TAIL_NUMBER'], axis = 1)\n",
        "    \n",
        "    # One-hot encode nominal feature columns\n",
        "    df = onehot_encode(\n",
        "        df,\n",
        "        column_dict = {\n",
        "            'AIRLINE': 'AL',\n",
        "            'ORIGIN_AIRPORT': 'OA',\n",
        "            'DESTINATION_AIRPORT': 'DA'\n",
        "        }\n",
        "    )\n",
        "    \n",
        "    # Fill remaining missing values with column means\n",
        "    remaining_na_columns = df.loc[:, df.isna().sum() > 0].columns\n",
        "    for column in remaining_na_columns:\n",
        "        df[column] = df[column].fillna(df[column].mean())\n",
        "    \n",
        "    # Split df into X and y\n",
        "    y = df['CANCELLED'].copy()\n",
        "    X = df.drop('CANCELLED', axis = 1).copy()\n",
        "    \n",
        "    # Train-test split\n",
        "    X_train, X_test, y_train, y_test = train_test_split(X, y, train_size = 0.7, random_state = 1)\n",
        "    \n",
        "    # Scale X with a standard scaler\n",
        "    scaler = StandardScaler()\n",
        "    scaler.fit(X_train)\n",
        "    \n",
        "    X_train = pd.DataFrame(scaler.transform(X_train), columns = X.columns)\n",
        "    X_test = pd.DataFrame(scaler.transform(X_test), columns = X.columns)\n",
        "   \n",
        "    # Handling unmbalance label by oversmapling method\n",
        "    oversampler = RandomOverSampler(random_state = 1)\n",
        "    X_train, y_train = oversampler.fit_resample(X_train, y_train)\n",
        "    \n",
        "    return X_train, X_test, y_train, y_test"
      ],
      "metadata": {
        "execution": {
          "iopub.status.busy": "2022-05-17T10:34:46.624126Z",
          "iopub.execute_input": "2022-05-17T10:34:46.624671Z",
          "iopub.status.idle": "2022-05-17T10:34:46.640182Z",
          "shell.execute_reply.started": "2022-05-17T10:34:46.624633Z",
          "shell.execute_reply": "2022-05-17T10:34:46.639453Z"
        },
        "trusted": true,
        "id": "mU389iOqoyxD"
      },
      "execution_count": null,
      "outputs": []
    },
    {
      "cell_type": "code",
      "source": [
        "X_train, X_test, y_train, y_test = preprocess_inputs(data)"
      ],
      "metadata": {
        "execution": {
          "iopub.status.busy": "2022-05-17T10:34:46.643048Z",
          "iopub.execute_input": "2022-05-17T10:34:46.643659Z"
        },
        "trusted": true,
        "id": "diq9BeNOoyxE"
      },
      "execution_count": null,
      "outputs": []
    },
    {
      "cell_type": "markdown",
      "source": [
        "# After Preprocessing"
      ],
      "metadata": {
        "id": "lfFp2Do4oyxF"
      }
    },
    {
      "cell_type": "code",
      "source": [
        "X_train"
      ],
      "metadata": {
        "trusted": true,
        "id": "YaAIR6-boyxF"
      },
      "execution_count": null,
      "outputs": []
    },
    {
      "cell_type": "code",
      "source": [
        "X_train.isnull().sum().sum()"
      ],
      "metadata": {
        "trusted": true,
        "id": "p8-LuXESoyxF"
      },
      "execution_count": null,
      "outputs": []
    },
    {
      "cell_type": "code",
      "source": [
        "y_train.value_counts()"
      ],
      "metadata": {
        "trusted": true,
        "id": "unUTmonaoyxF"
      },
      "execution_count": null,
      "outputs": []
    },
    {
      "cell_type": "markdown",
      "source": [
        "# Training"
      ],
      "metadata": {
        "id": "PP9tYrAHoyxG"
      }
    },
    {
      "cell_type": "code",
      "source": [
        "model = LogisticRegression()\n",
        "model.fit(X_train, y_train)"
      ],
      "metadata": {
        "trusted": true,
        "id": "JGbguoB2oyxG"
      },
      "execution_count": null,
      "outputs": []
    },
    {
      "cell_type": "markdown",
      "source": [
        "# Results"
      ],
      "metadata": {
        "id": "olAOn6Z6oyxG"
      }
    },
    {
      "cell_type": "code",
      "source": [
        "def evaluate_model(model, X_test, y_test):\n",
        "    \n",
        "    model_acc = model.score(X_test, y_test)\n",
        "    print(\"Test Accuracy: {:.2f}%\".format(model_acc * 100))\n",
        "    \n",
        "    y_true = np.array(y_test)\n",
        "    y_pred = model.predict(X_test)\n",
        "    \n",
        "    cm = confusion_matrix(y_true, y_pred)\n",
        "    clr = classification_report(y_true, y_pred, target_names=[\"NOT CANCELLED\", \"CANCELLED\"])\n",
        "    \n",
        "    plt.figure(figsize=(8, 8))\n",
        "    sns.heatmap(cm, annot=True, vmin=0, fmt='g', cmap='Blues', cbar=False)\n",
        "    plt.xticks(np.arange(2) + 0.5, [\"NOT CANCELLED\", \"CANCELLED\"])\n",
        "    plt.yticks(np.arange(2) + 0.5, [\"NOT CANCELLED\", \"CANCELLED\"])\n",
        "    plt.xlabel(\"Predicted\")\n",
        "    plt.ylabel(\"Actual\")\n",
        "    plt.title(\"Confusion Matrix\")\n",
        "    plt.show()\n",
        "    \n",
        "    print(\"Classification Report:\\n----------------------\\n\", clr)"
      ],
      "metadata": {
        "trusted": true,
        "id": "2LngHYdLoyxG"
      },
      "execution_count": null,
      "outputs": []
    },
    {
      "cell_type": "code",
      "source": [
        "evaluate_model(model, X_test, y_test)"
      ],
      "metadata": {
        "trusted": true,
        "id": "DDD2aLT9oyxG"
      },
      "execution_count": null,
      "outputs": []
    }
  ]
}